{
 "cells": [
  {
   "cell_type": "code",
   "execution_count": 3,
   "metadata": {},
   "outputs": [],
   "source": [
    "import numpy as np\n",
    "from scipy.fft import fft, ifft\n",
    "\n",
    "import matplotlib.pyplot as plt\n",
    "%matplotlib inline\n",
    "\n",
    "\n",
    "fname = r'C:\\Users\\joshs\\Documents\\Open Ephys\\DataFiles\\continuous\\chirps_16_channels_At40KHz\\continuous2.dat'\n",
    "\n",
    "data = np.memmap(fname, dtype='int16')\n",
    "data = np.reshape(data, ((data.size//16, 16)))"
   ]
  },
  {
   "cell_type": "code",
   "execution_count": 146,
   "metadata": {},
   "outputs": [
    {
     "data": {
      "text/plain": [
       "[<matplotlib.lines.Line2D at 0x274785daf70>]"
      ]
     },
     "execution_count": 146,
     "metadata": {},
     "output_type": "execute_result"
    },
    {
     "data": {
      "image/png": "[encoded data removed]",
      "text/plain": [
       "<Figure size 432x288 with 1 Axes>"
      ]
     },
     "metadata": {
      "needs_background": "light"
     },
     "output_type": "display_data"
    }
   ],
   "source": [
    "plt.plot(data[:,-1])"
   ]
  },
  {
   "cell_type": "code",
   "execution_count": 148,
   "metadata": {},
   "outputs": [
    {
     "data": {
      "text/plain": [
       "8000.0"
      ]
     },
     "execution_count": 148,
     "metadata": {},
     "output_type": "execute_result"
    }
   ],
   "source": [
    "40000/5"
   ]
  },
  {
   "cell_type": "code",
   "execution_count": 177,
   "metadata": {},
   "outputs": [
    {
     "data": {
      "text/plain": [
       "1000"
      ]
     },
     "execution_count": 177,
     "metadata": {},
     "output_type": "execute_result"
    }
   ],
   "source": [
    "winLen = 0.25\n",
    "downsample_factor = 10\n",
    "\n",
    "\n",
    "Fs = 40000 / downsample_factor\n",
    "\n",
    "freqStart = 4\n",
    "freqEnd = 1000\n",
    "\n",
    "nfft = int(winLen * Fs) \n",
    "\n",
    "interpRatio = 1\n",
    "\n",
    "freqStep = 1.0 / float(winLen * interpRatio)\n",
    "\n",
    "nFreqs = int((freqEnd - freqStart) / freqStep) + 1\n",
    "\n",
    "nfft"
   ]
  },
  {
   "cell_type": "code",
   "execution_count": 178,
   "metadata": {},
   "outputs": [],
   "source": [
    "hann = np.zeros((nfft,))\n",
    "sinWave = np.zeros((nfft,))\n",
    "cosWave = np.zeros((nfft,))\n",
    "\n",
    "waveletArray = []\n",
    "\n",
    "nSampWindow = Fs * winLen\n",
    "\n",
    "for position in range(nfft):\n",
    "\n",
    "    if position <= nSampWindow / 2:\n",
    "        \n",
    "        hann[position] = pow(np.sin(np.pi * position / nSampWindow + (np.pi / 2)), 2)\n",
    "        \n",
    "    elif position <= (nfft - nSampWindow / 2):\n",
    "        \n",
    "        hann[position] = 0;\n",
    "        \n",
    "    else:\n",
    "        \n",
    "        hannPosition = position - (nfft - nSampWindow / 2)\n",
    "        \n",
    "        hann[position] = pow(np.sin(np.pi * hannPosition / nSampWindow), 2)\n",
    "\n",
    "freqNormalized = freqStart\n",
    "\n",
    "for freq in range(nFreqs):\n",
    "    \n",
    "    for position in range(nfft):\n",
    "        \n",
    "        sinWave[position] = np.sin(position * freqNormalized * (2 * np.pi) / Fs)\n",
    "        cosWave[position] = np.cos(position * freqNormalized * (2 * np.pi) / Fs)\n",
    "    \n",
    "    freqNormalized += freqStep\n",
    "    \n",
    "    waveletBuffer = cosWave * hann + 1j * sinWave * hann\n",
    "\n",
    "    fftComplex = fft(waveletBuffer)\n",
    "\n",
    "    waveletArray.append(fftComplex)\n",
    "    \n",
    "    #stop\n"
   ]
  },
  {
   "cell_type": "code",
   "execution_count": 181,
   "metadata": {},
   "outputs": [
    {
     "data": {
      "text/plain": [
       "4.0"
      ]
     },
     "execution_count": 181,
     "metadata": {},
     "output_type": "execute_result"
    }
   ],
   "source": [
    "freqStep"
   ]
  },
  {
   "cell_type": "code",
   "execution_count": 190,
   "metadata": {},
   "outputs": [
    {
     "data": {
      "text/plain": [
       "[<matplotlib.lines.Line2D at 0x27400113ca0>]"
      ]
     },
     "execution_count": 190,
     "metadata": {},
     "output_type": "execute_result"
    },
    {
     "data": {
      "image/png": "[encoded data removed]",
      "text/plain": [
       "<Figure size 432x288 with 1 Axes>"
      ]
     },
     "metadata": {
      "needs_background": "light"
     },
     "output_type": "display_data"
    }
   ],
   "source": [
    "from scipy.signal import decimate\n",
    "\n",
    "target_frequencies = np.linspace(10,1000,16)\n",
    "\n",
    "ch = 15\n",
    "\n",
    "\n",
    "for startPt in np.arange(0, 10001, 10000): \n",
    "    \n",
    "    endPt = startPt + int(nSampWindow * downsample_factor)\n",
    "\n",
    "    long_snip = data[startPt:endPt, ch]\n",
    "    snip = np.zeros((len(long_snip) // downsample_factor,)) #decimate(data[startPt:endPt, ch], 20, ftype='fir')\n",
    "    \n",
    "    dsf = 2\n",
    "    for i in range(len(long_snip) // downsample_factor):\n",
    "        snip[i] = np.mean(long_snip[i*dsf:i*dsf+dsf])\n",
    "    \n",
    "    fftBuffer = fft(snip)\n",
    "\n",
    "    nWindow = Fs * winLen;\n",
    "\n",
    "    power = np.zeros((nFreqs,nfft))\n",
    "    p2 = np.zeros((nFreqs,))\n",
    "    spectrum = np.zeros((nFreqs,nfft))\n",
    "    iBuff = np.zeros((nfft,),dtype=np.cdouble)\n",
    "    \n",
    "    for freq in range(nFreqs):\n",
    "\n",
    "        for n in range(nfft):\n",
    "            \n",
    "            iBuff[n] = np.imag(fftBuffer[n]) * waveletArray[freq][n]\n",
    "\n",
    "        iBuff = ifft(iBuff)\n",
    "        \n",
    "        for n in range(nfft):\n",
    "        \n",
    "            complex = np.imag(iBuff[n])\n",
    "            \n",
    "            complex *= pow( 2 / nWindow, 0.5) / nfft\n",
    "\n",
    "            spectrum[freq,n] = complex\n",
    "\n",
    "            power[freq,n] = np.abs(spectrum[freq,n])\n",
    "        \n",
    "        p2[freq] = np.abs(fftBuffer[freq]) **2\n",
    "\n",
    "    freqs = np.linspace(freqStart, freqEnd, nFreqs)\n",
    "    \n",
    "   # pts = np.logspace(0,1000)\n",
    "\n",
    "    plt.plot(freqs, np.log10(p2)) #np.mean(power,1)))\n",
    "    #plt.semilogy(freqs, p2, 'k')\n",
    "    \n",
    "plt.plot([target_frequencies[ch], target_frequencies[ch]], [-3,10])\n"
   ]
  },
  {
   "cell_type": "code",
   "execution_count": 168,
   "metadata": {},
   "outputs": [
    {
     "data": {
      "text/plain": [
       "10000.0"
      ]
     },
     "execution_count": 168,
     "metadata": {},
     "output_type": "execute_result"
    }
   ],
   "source": [
    "nSampWindow * downsample_factor"
   ]
  },
  {
   "cell_type": "code",
   "execution_count": 65,
   "metadata": {},
   "outputs": [
    {
     "data": {
      "text/plain": [
       "array([   1.        ,    1.1513954 ,    1.32571137,    1.52641797,\n",
       "          1.75751062,    2.02358965,    2.32995181,    2.6826958 ,\n",
       "          3.0888436 ,    3.55648031,    4.09491506,    4.71486636,\n",
       "          5.42867544,    6.25055193,    7.19685673,    8.28642773,\n",
       "          9.54095476,   10.98541142,   12.64855217,   14.56348478,\n",
       "         16.76832937,   19.30697729,   22.22996483,   25.59547923,\n",
       "         29.47051703,   33.93221772,   39.06939937,   44.98432669,\n",
       "         51.79474679,   59.63623317,   68.6648845 ,   79.06043211,\n",
       "         91.0298178 ,  104.81131342,  120.67926406,  138.94954944,\n",
       "        159.98587196,  184.20699693,  212.09508879,  244.20530945,\n",
       "        281.1768698 ,  323.74575428,  372.75937203,  429.19342601,\n",
       "        494.17133613,  568.9866029 ,  655.12855686,  754.31200634,\n",
       "        868.51137375, 1000.        ])"
      ]
     },
     "execution_count": 65,
     "metadata": {},
     "output_type": "execute_result"
    }
   ],
   "source": [
    "np.logspace(0,3)"
   ]
  },
  {
   "cell_type": "code",
   "execution_count": 75,
   "metadata": {},
   "outputs": [
    {
     "data": {
      "text/plain": [
       "998"
      ]
     },
     "execution_count": 75,
     "metadata": {},
     "output_type": "execute_result"
    }
   ],
   "source": [
    "499 *2"
   ]
  },
  {
   "cell_type": "code",
   "execution_count": 88,
   "metadata": {},
   "outputs": [
    {
     "data": {
      "text/plain": [
       "7.62939453125e-05"
      ]
     },
     "execution_count": 88,
     "metadata": {},
     "output_type": "execute_result"
    }
   ],
   "source": [
    "5 / pow(2,16)"
   ]
  },
  {
   "cell_type": "code",
   "execution_count": 89,
   "metadata": {},
   "outputs": [
    {
     "data": {
      "text/plain": [
       "5.035400390625e-05"
      ]
     },
     "execution_count": 89,
     "metadata": {},
     "output_type": "execute_result"
    }
   ],
   "source": [
    "3.3 / pow(2,16)"
   ]
  },
  {
   "cell_type": "code",
   "execution_count": 26,
   "metadata": {},
   "outputs": [],
   "source": [
    "\n",
    "\n",
    "test_data = np.zeros((80000,16), dtype='int16')"
   ]
  },
  {
   "cell_type": "code",
   "execution_count": 27,
   "metadata": {},
   "outputs": [],
   "source": []
  },
  {
   "cell_type": "code",
   "execution_count": 28,
   "metadata": {},
   "outputs": [],
   "source": [
    "t = np.tile(np.linspace(0, 2*np.pi, 40000), (1,2))\n",
    "\n",
    "for i, fr in enumerate(freqs):\n",
    "    \n",
    "    test_data[:,i] = np.sin(t*fr) * 100 / 0.195"
   ]
  },
  {
   "cell_type": "code",
   "execution_count": 73,
   "metadata": {},
   "outputs": [
    {
     "data": {
      "text/plain": [
       "[<matplotlib.lines.Line2D at 0x1f1914e6430>]"
      ]
     },
     "execution_count": 73,
     "metadata": {},
     "output_type": "execute_result"
    },
    {
     "data": {
      "image/png": "[encoded data removed]",
      "text/plain": [
       "<Figure size 432x288 with 1 Axes>"
      ]
     },
     "metadata": {
      "needs_background": "light"
     },
     "output_type": "display_data"
    }
   ],
   "source": [
    "plt.plot(test_data[:,0])"
   ]
  },
  {
   "cell_type": "code",
   "execution_count": 76,
   "metadata": {},
   "outputs": [],
   "source": [
    "fname = r'C:\\Users\\joshs\\Documents\\Open Ephys\\DataFiles\\continuous\\chirps_16_channels_At40KHz\\continuous2.dat'\n",
    "\n",
    "test_data.tofile(fname)"
   ]
  },
  {
   "cell_type": "code",
   "execution_count": 87,
   "metadata": {},
   "outputs": [
    {
     "name": "stdout",
     "output_type": "stream",
     "text": [
      "(-2.9531932455029164e-14-2.523464566048466e-13j)\n"
     ]
    }
   ],
   "source": [
    "print(waveletArray[247][0])"
   ]
  },
  {
   "cell_type": "code",
   "execution_count": 191,
   "metadata": {},
   "outputs": [
    {
     "data": {
      "text/plain": [
       "32768"
      ]
     },
     "execution_count": 191,
     "metadata": {},
     "output_type": "execute_result"
    }
   ],
   "source": [
    "2 * 64 * 256"
   ]
  },
  {
   "cell_type": "code",
   "execution_count": null,
   "metadata": {},
   "outputs": [],
   "source": []
  }
 ],
 "metadata": {
  "kernelspec": {
   "display_name": "Python 3",
   "language": "python",
   "name": "python3"
  },
  "language_info": {
   "codemirror_mode": {
    "name": "ipython",
    "version": 3
   },
   "file_extension": ".py",
   "mimetype": "text/x-python",
   "name": "python",
   "nbconvert_exporter": "python",
   "pygments_lexer": "ipython3",
   "version": "3.8.5"
  }
 },
 "nbformat": 4,
 "nbformat_minor": 4
}
